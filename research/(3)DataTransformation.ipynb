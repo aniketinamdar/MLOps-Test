{
 "cells": [
  {
   "cell_type": "code",
   "execution_count": 1,
   "id": "initial_id",
   "metadata": {
    "collapsed": true,
    "ExecuteTime": {
     "end_time": "2024-02-08T12:45:16.783218Z",
     "start_time": "2024-02-08T12:45:16.780779600Z"
    }
   },
   "outputs": [],
   "source": [
    "import os"
   ]
  },
  {
   "cell_type": "code",
   "outputs": [],
   "source": [
    "os.chdir('../')"
   ],
   "metadata": {
    "collapsed": false,
    "ExecuteTime": {
     "end_time": "2024-02-08T12:45:19.754134500Z",
     "start_time": "2024-02-08T12:45:19.746422500Z"
    }
   },
   "id": "54ebd04937257934",
   "execution_count": 2
  },
  {
   "cell_type": "code",
   "outputs": [
    {
     "data": {
      "text/plain": "'D:\\\\Work\\\\MLOps'"
     },
     "execution_count": 14,
     "metadata": {},
     "output_type": "execute_result"
    }
   ],
   "source": [
    "%pwd"
   ],
   "metadata": {
    "collapsed": false,
    "ExecuteTime": {
     "end_time": "2024-02-08T13:02:39.714858300Z",
     "start_time": "2024-02-08T13:02:39.703173100Z"
    }
   },
   "id": "e5ad07ea0753246e",
   "execution_count": 14
  },
  {
   "cell_type": "markdown",
   "source": [
    "Update Entity class"
   ],
   "metadata": {
    "collapsed": false
   },
   "id": "c0e34af04cbd312f"
  },
  {
   "cell_type": "code",
   "outputs": [],
   "source": [
    "from dataclasses import dataclass \n",
    "from pathlib import Path\n",
    "\n",
    "@dataclass(frozen=True)\n",
    "class DataTransformationConfig:\n",
    "    root_dir: Path\n",
    "    data_path: Path"
   ],
   "metadata": {
    "collapsed": false,
    "ExecuteTime": {
     "end_time": "2024-02-08T12:48:07.251860700Z",
     "start_time": "2024-02-08T12:48:07.245153400Z"
    }
   },
   "id": "7078fe6b211c7d12",
   "execution_count": 4
  },
  {
   "cell_type": "markdown",
   "source": [
    "Configuration Manager Prep"
   ],
   "metadata": {
    "collapsed": false
   },
   "id": "65e2c385c32249b"
  },
  {
   "cell_type": "code",
   "outputs": [],
   "source": [
    "from MLOps_Test.constants import *\n",
    "from MLOps_Test.utils.common import read_yaml,create_directories"
   ],
   "metadata": {
    "collapsed": false,
    "ExecuteTime": {
     "end_time": "2024-02-08T12:48:37.633988Z",
     "start_time": "2024-02-08T12:48:37.540681200Z"
    }
   },
   "id": "46eec12731c44ef3",
   "execution_count": 5
  },
  {
   "cell_type": "code",
   "outputs": [],
   "source": [
    "class ConfigurationManager:\n",
    "    def __init__(\n",
    "        self,\n",
    "        config_filepath = CONFIG_FILE_PATH,\n",
    "        params_filepath = PARAMS_FILE_PATH,\n",
    "        schema_filepath = SCHEMA_FILE_PATH):\n",
    "\n",
    "        self.config = read_yaml(config_filepath)\n",
    "        self.params = read_yaml(params_filepath)\n",
    "        self.schema = read_yaml(schema_filepath)\n",
    "\n",
    "        create_directories([self.config.artifacts_root])\n",
    "\n",
    "\n",
    "    \n",
    "    def get_data_transformation_config(self) -> DataTransformationConfig:\n",
    "        config = self.config.data_transformation\n",
    "\n",
    "        create_directories([config.root_dir])\n",
    "\n",
    "        data_transformation_config = DataTransformationConfig(\n",
    "            root_dir=config.root_dir,\n",
    "            data_path=config.data_path,\n",
    "        )\n",
    "\n",
    "        return data_transformation_config"
   ],
   "metadata": {
    "collapsed": false,
    "ExecuteTime": {
     "end_time": "2024-02-08T13:04:09.771570400Z",
     "start_time": "2024-02-08T13:04:09.762082700Z"
    }
   },
   "id": "f292849b8b7d5c14",
   "execution_count": 19
  },
  {
   "cell_type": "code",
   "outputs": [],
   "source": [
    "import os\n",
    "from MLOps_Test import logger\n",
    "from sklearn.model_selection import train_test_split\n",
    "import pandas as pd"
   ],
   "metadata": {
    "collapsed": false,
    "ExecuteTime": {
     "end_time": "2024-02-08T13:04:09.974392300Z",
     "start_time": "2024-02-08T13:04:09.970941300Z"
    }
   },
   "id": "27b5602bbf20e29e",
   "execution_count": 20
  },
  {
   "cell_type": "code",
   "outputs": [],
   "source": [
    "class DataTransformation:\n",
    "    def __init__(self, config: DataTransformationConfig):\n",
    "        self.config = config\n",
    "    \n",
    "    def train_test_splitting(self):\n",
    "        data = pd.read_csv(self.config.data_path)\n",
    "        train, test = train_test_split(data)\n",
    "\n",
    "        train.to_csv(os.path.join(self.config.root_dir, \"train.csv\"),index = False)\n",
    "        test.to_csv(os.path.join(self.config.root_dir, \"test.csv\"),index = False)\n",
    "\n",
    "        logger.info(\"Splited data into training and test sets\")\n",
    "        logger.info(train.shape)\n",
    "        logger.info(test.shape)\n",
    "\n",
    "        print(train.shape)\n",
    "        print(test.shape)\n",
    "        "
   ],
   "metadata": {
    "collapsed": false,
    "ExecuteTime": {
     "end_time": "2024-02-08T13:04:10.139519600Z",
     "start_time": "2024-02-08T13:04:10.134406Z"
    }
   },
   "id": "ac8f491f89ef2d2b",
   "execution_count": 21
  },
  {
   "cell_type": "code",
   "outputs": [
    {
     "name": "stdout",
     "output_type": "stream",
     "text": [
      "[2024-02-08 18:34:10,284: INFO: common: yaml file: config\\config.yaml loaded successfully]\n",
      "[2024-02-08 18:34:10,285: INFO: common: yaml file: params.yaml loaded successfully]\n",
      "[2024-02-08 18:34:10,287: INFO: common: yaml file: schema.yaml loaded successfully]\n",
      "[2024-02-08 18:34:10,288: INFO: common: created directory at: artifacts]\n",
      "config done\n",
      "[2024-02-08 18:34:10,289: INFO: common: created directory at: artifacts/data_transformation]\n",
      "s1 config done\n",
      "s2 config done\n",
      "[2024-02-08 18:34:10,300: INFO: 2873624249: Splited data into training and test sets]\n",
      "[2024-02-08 18:34:10,301: INFO: 2873624249: (1199, 12)]\n",
      "[2024-02-08 18:34:10,302: INFO: 2873624249: (400, 12)]\n",
      "(1199, 12)\n",
      "(400, 12)\n"
     ]
    }
   ],
   "source": [
    "try:\n",
    "    config = ConfigurationManager()\n",
    "    data_transformation_config = config.get_data_transformation_config()\n",
    "    data_transformation = DataTransformation(config=data_transformation_config)\n",
    "    data_transformation.train_test_splitting()\n",
    "except Exception as e:\n",
    "    raise e"
   ],
   "metadata": {
    "collapsed": false,
    "ExecuteTime": {
     "end_time": "2024-02-08T13:04:10.308217400Z",
     "start_time": "2024-02-08T13:04:10.283072100Z"
    }
   },
   "id": "b1327fae391a0c95",
   "execution_count": 22
  },
  {
   "cell_type": "code",
   "outputs": [],
   "source": [],
   "metadata": {
    "collapsed": false
   },
   "id": "381908ef60eefe25"
  }
 ],
 "metadata": {
  "kernelspec": {
   "display_name": "Python 3",
   "language": "python",
   "name": "python3"
  },
  "language_info": {
   "codemirror_mode": {
    "name": "ipython",
    "version": 2
   },
   "file_extension": ".py",
   "mimetype": "text/x-python",
   "name": "python",
   "nbconvert_exporter": "python",
   "pygments_lexer": "ipython2",
   "version": "2.7.6"
  }
 },
 "nbformat": 4,
 "nbformat_minor": 5
}
