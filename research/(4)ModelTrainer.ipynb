{
 "cells": [
  {
   "cell_type": "code",
   "execution_count": 1,
   "id": "initial_id",
   "metadata": {
    "collapsed": true,
    "ExecuteTime": {
     "end_time": "2024-02-09T09:23:10.950684Z",
     "start_time": "2024-02-09T09:23:10.945339400Z"
    }
   },
   "outputs": [],
   "source": [
    "import os"
   ]
  },
  {
   "cell_type": "code",
   "outputs": [],
   "source": [
    "os.chdir('../')"
   ],
   "metadata": {
    "collapsed": false,
    "ExecuteTime": {
     "end_time": "2024-02-09T09:23:11.822015400Z",
     "start_time": "2024-02-09T09:23:11.814502700Z"
    }
   },
   "id": "26952d524c7922f2",
   "execution_count": 2
  },
  {
   "cell_type": "code",
   "outputs": [
    {
     "data": {
      "text/plain": "'D:\\\\Work\\\\MLOps'"
     },
     "execution_count": 3,
     "metadata": {},
     "output_type": "execute_result"
    }
   ],
   "source": [
    "%pwd"
   ],
   "metadata": {
    "collapsed": false,
    "ExecuteTime": {
     "end_time": "2024-02-09T09:23:26.252207400Z",
     "start_time": "2024-02-09T09:23:26.241851Z"
    }
   },
   "id": "56b29f6fe0baeeab",
   "execution_count": 3
  },
  {
   "cell_type": "markdown",
   "source": [
    "Update Entity Class"
   ],
   "metadata": {
    "collapsed": false
   },
   "id": "5ddbaa43a5ec4032"
  },
  {
   "cell_type": "code",
   "outputs": [],
   "source": [
    "from dataclasses import dataclass \n",
    "from pathlib import Path\n",
    "\n",
    "@dataclass(frozen=True)\n",
    "class ModelTrainerConfig:\n",
    "    root_dir: Path\n",
    "    train_data_path: Path\n",
    "    test_data_path: Path\n",
    "    model_name: str\n",
    "    alpha: float\n",
    "    l1_ratio: float\n",
    "    target_column: str"
   ],
   "metadata": {
    "collapsed": false,
    "ExecuteTime": {
     "end_time": "2024-02-09T10:45:30.861504900Z",
     "start_time": "2024-02-09T10:45:30.854960Z"
    }
   },
   "id": "49ff06f489b07771",
   "execution_count": 25
  },
  {
   "cell_type": "markdown",
   "source": [
    "Configuration Manager"
   ],
   "metadata": {
    "collapsed": false
   },
   "id": "499f9bcebf749844"
  },
  {
   "cell_type": "code",
   "outputs": [],
   "source": [
    "from MLOps_Test.constants import *\n",
    "from MLOps_Test.utils.common import read_yaml,create_directories"
   ],
   "metadata": {
    "collapsed": false,
    "ExecuteTime": {
     "end_time": "2024-02-09T10:45:31.438445100Z",
     "start_time": "2024-02-09T10:45:31.435905800Z"
    }
   },
   "id": "1aec24dc7f4809a6",
   "execution_count": 26
  },
  {
   "cell_type": "code",
   "outputs": [],
   "source": [
    "class ConfigurationManager:\n",
    "    def __init__(\n",
    "        self,\n",
    "        config_filepath = CONFIG_FILE_PATH,\n",
    "        params_filepath = PARAMS_FILE_PATH,\n",
    "        schema_filepath = SCHEMA_FILE_PATH):\n",
    "\n",
    "        self.config = read_yaml(config_filepath)\n",
    "        self.params = read_yaml(params_filepath)\n",
    "        self.schema = read_yaml(schema_filepath)\n",
    "\n",
    "        create_directories([self.config.artifacts_root])\n",
    "\n",
    "\n",
    "    def get_model_trainer_config(self) -> ModelTrainerConfig:\n",
    "        config = self.config.model_trainer\n",
    "        params = self.params.ElasticNet\n",
    "        schema =  self.schema.TARGET_COLUMN\n",
    "\n",
    "        create_directories([config.root_dir])\n",
    "\n",
    "        model_trainer_config = ModelTrainerConfig(\n",
    "            root_dir=config.root_dir,\n",
    "            train_data_path = config.train_data_path,\n",
    "            test_data_path = config.test_data_path,\n",
    "            model_name = config.model_name,\n",
    "            alpha = params.alpha,\n",
    "            l1_ratio = params.l1_ratio,\n",
    "            target_column = schema.name\n",
    "            \n",
    "        )\n",
    "\n",
    "        return model_trainer_config"
   ],
   "metadata": {
    "collapsed": false,
    "ExecuteTime": {
     "end_time": "2024-02-09T10:45:31.736288400Z",
     "start_time": "2024-02-09T10:45:31.732770800Z"
    }
   },
   "id": "13054a6b4324c2a2",
   "execution_count": 27
  },
  {
   "cell_type": "code",
   "outputs": [],
   "source": [
    "import pandas as pd\n",
    "import os\n",
    "from MLOps_Test import logger\n",
    "from sklearn.linear_model import ElasticNet\n",
    "import joblib"
   ],
   "metadata": {
    "collapsed": false,
    "ExecuteTime": {
     "end_time": "2024-02-09T10:45:32.030261800Z",
     "start_time": "2024-02-09T10:45:32.022234300Z"
    }
   },
   "id": "549e9e73fc07c4bb",
   "execution_count": 28
  },
  {
   "cell_type": "code",
   "outputs": [],
   "source": [
    "class ModelTrainer:\n",
    "    def __init__(self, config: ModelTrainerConfig):\n",
    "        self.config = config\n",
    "    \n",
    "    def train(self):\n",
    "        train_data= pd.read_csv(self.config.train_data_path)\n",
    "        test_data = pd.read_csv(self.config.test_data_path)\n",
    "        \n",
    "        train_x = train_data.drop([self.config.target_column], axis=1)\n",
    "        test_x = test_data.drop([self.config.target_column],axis=1)\n",
    "        train_y = train_data[self.config.target_column]\n",
    "        test_y = test_data[self.config.target_column]\n",
    "        \n",
    "        lr = ElasticNet(alpha=self.config.alpha, l1_ratio=self.config.l1_ratio, random_state=42)\n",
    "        lr.fit(train_x, train_y)\n",
    "        joblib.dump(lr,os.path.join(self.config.root_dir,self.config.model_name))"
   ],
   "metadata": {
    "collapsed": false,
    "ExecuteTime": {
     "end_time": "2024-02-09T10:45:32.319833100Z",
     "start_time": "2024-02-09T10:45:32.316339700Z"
    }
   },
   "id": "eb5c135c4281b5ac",
   "execution_count": 29
  },
  {
   "cell_type": "markdown",
   "source": [
    "Pipeline"
   ],
   "metadata": {
    "collapsed": false
   },
   "id": "3fbb6990afe64f77"
  },
  {
   "cell_type": "code",
   "outputs": [
    {
     "name": "stdout",
     "output_type": "stream",
     "text": [
      "[2024-02-09 16:15:33,241: INFO: common: yaml file: config\\config.yaml loaded successfully]\n",
      "[2024-02-09 16:15:33,242: INFO: common: yaml file: params.yaml loaded successfully]\n",
      "[2024-02-09 16:15:33,244: INFO: common: yaml file: schema.yaml loaded successfully]\n",
      "[2024-02-09 16:15:33,245: INFO: common: created directory at: artifacts]\n",
      "[2024-02-09 16:15:33,245: INFO: common: created directory at: artifacts/model_trainer]\n"
     ]
    }
   ],
   "source": [
    "try:\n",
    "    config = ConfigurationManager()\n",
    "    model_trainer_config = config.get_model_trainer_config()\n",
    "    model_trainer = ModelTrainer(config=model_trainer_config)\n",
    "    model_trainer.train()\n",
    "except Exception as e:\n",
    "    raise e"
   ],
   "metadata": {
    "collapsed": false,
    "ExecuteTime": {
     "end_time": "2024-02-09T10:45:33.260948500Z",
     "start_time": "2024-02-09T10:45:33.239903600Z"
    }
   },
   "id": "f4095c93301db1e1",
   "execution_count": 30
  },
  {
   "cell_type": "code",
   "outputs": [],
   "source": [],
   "metadata": {
    "collapsed": false
   },
   "id": "84458b56abf652a2"
  }
 ],
 "metadata": {
  "kernelspec": {
   "display_name": "Python 3",
   "language": "python",
   "name": "python3"
  },
  "language_info": {
   "codemirror_mode": {
    "name": "ipython",
    "version": 2
   },
   "file_extension": ".py",
   "mimetype": "text/x-python",
   "name": "python",
   "nbconvert_exporter": "python",
   "pygments_lexer": "ipython2",
   "version": "2.7.6"
  }
 },
 "nbformat": 4,
 "nbformat_minor": 5
}
