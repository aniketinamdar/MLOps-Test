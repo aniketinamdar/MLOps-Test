{
 "cells": [
  {
   "cell_type": "code",
   "execution_count": 1,
   "id": "initial_id",
   "metadata": {
    "collapsed": true,
    "ExecuteTime": {
     "end_time": "2024-02-07T11:35:14.220885500Z",
     "start_time": "2024-02-07T11:35:14.217211700Z"
    }
   },
   "outputs": [],
   "source": [
    "import os"
   ]
  },
  {
   "cell_type": "code",
   "outputs": [],
   "source": [
    "os.chdir('../')"
   ],
   "metadata": {
    "collapsed": false,
    "ExecuteTime": {
     "end_time": "2024-02-07T11:36:42.005438600Z",
     "start_time": "2024-02-07T11:36:41.999984800Z"
    }
   },
   "id": "85ac0c2a373a1836",
   "execution_count": 7
  },
  {
   "cell_type": "code",
   "outputs": [],
   "source": [
    "from dataclasses import dataclass\n",
    "from pathlib import Path\n",
    "\n",
    "@dataclass(frozen=True)\n",
    "class DataIngestionConfig:\n",
    "    root_dir: Path\n",
    "    source_URL: str\n",
    "    local_data_file: Path\n",
    "    unzip_dir: Path"
   ],
   "metadata": {
    "collapsed": false,
    "ExecuteTime": {
     "end_time": "2024-02-07T11:47:06.061083200Z",
     "start_time": "2024-02-07T11:47:06.057572700Z"
    }
   },
   "id": "981d38556ffdb8bd",
   "execution_count": 9
  },
  {
   "cell_type": "code",
   "outputs": [],
   "source": [
    "from MLOps_Test.constants import *\n",
    "from MLOps_Test.utils.common import read_yaml,create_directories"
   ],
   "metadata": {
    "collapsed": false,
    "ExecuteTime": {
     "end_time": "2024-02-07T11:54:14.226694100Z",
     "start_time": "2024-02-07T11:54:14.027282300Z"
    }
   },
   "id": "1f1cedc8dc48b1d",
   "execution_count": 10
  },
  {
   "cell_type": "markdown",
   "source": [
    "Configuration class to read yaml files"
   ],
   "metadata": {
    "collapsed": false
   },
   "id": "460078338812d66"
  },
  {
   "cell_type": "code",
   "outputs": [],
   "source": [
    "class ConfigurationManager:\n",
    "    def __init__(\n",
    "        self,\n",
    "        config_filepath = CONFIG_FILE_PATH,\n",
    "        params_filepath = PARAMS_FILE_PATH,\n",
    "        schema_filepath = SCHEMA_FILE_PATH):\n",
    "\n",
    "        self.config = read_yaml(config_filepath)\n",
    "        self.params = read_yaml(params_filepath)\n",
    "        self.schema = read_yaml(schema_filepath)\n",
    "\n",
    "        create_directories([self.config.artifacts_root])\n",
    "\n",
    "\n",
    "    \n",
    "    def get_data_ingestion_config(self) -> DataIngestionConfig:\n",
    "        config = self.config.data_ingestion\n",
    "\n",
    "        create_directories([config.root_dir])\n",
    "\n",
    "        data_ingestion_config = DataIngestionConfig(\n",
    "            root_dir=config.root_dir,\n",
    "            source_URL=config.source_URL,\n",
    "            local_data_file=config.local_data_file,\n",
    "            unzip_dir=config.unzip_dir \n",
    "        )\n",
    "\n",
    "        return data_ingestion_config"
   ],
   "metadata": {
    "collapsed": false,
    "ExecuteTime": {
     "end_time": "2024-02-07T12:30:18.518341100Z",
     "start_time": "2024-02-07T12:30:18.511287400Z"
    }
   },
   "id": "d4287183df6c1b44",
   "execution_count": 22
  },
  {
   "cell_type": "markdown",
   "source": [
    "Update data ingestion components"
   ],
   "metadata": {
    "collapsed": false
   },
   "id": "13c4b3dbe03c4d82"
  },
  {
   "cell_type": "code",
   "outputs": [],
   "source": [
    "import os\n",
    "import urllib.request as request\n",
    "import zipfile\n",
    "from MLOps_Test import logger\n",
    "from MLOps_Test.utils.common import get_size"
   ],
   "metadata": {
    "collapsed": false,
    "ExecuteTime": {
     "end_time": "2024-02-07T12:06:07.904130800Z",
     "start_time": "2024-02-07T12:06:07.899107300Z"
    }
   },
   "id": "fc631a21729c52a2",
   "execution_count": 12
  },
  {
   "cell_type": "code",
   "outputs": [],
   "source": [
    "class DataIngestion:\n",
    "    def __init__(self,config:DataIngestionConfig):\n",
    "        self.config = config\n",
    "        \n",
    "    def download_file(self):\n",
    "        if not os.path.exists(self.config.local_data_file):\n",
    "            filename, headers = request.urlretrieve(url = self.config.source_URL, filename=self.config.local_data_file)\n",
    "            logger.info(f\"{filename} downloaded file with following info \\n{headers} \")\n",
    "        else:\n",
    "            logger.info(f\"File aldready exists of size : {get_size(Path(self.config.local_data_file))}\")\n",
    "    \n",
    "    def extract_zip_file(self):\n",
    "        unzip_path = self.config.unzip_dir\n",
    "        os.makedirs(unzip_path, exist_ok=True)\n",
    "        with zipfile.ZipFile(self.config.local_data_file, 'r') as zip_ref:\n",
    "            zip_ref.extractall(unzip_path)"
   ],
   "metadata": {
    "collapsed": false,
    "ExecuteTime": {
     "end_time": "2024-02-07T12:20:49.654620800Z",
     "start_time": "2024-02-07T12:20:49.643681700Z"
    }
   },
   "id": "3b412b8d844ade4d",
   "execution_count": 13
  },
  {
   "cell_type": "markdown",
   "source": [
    "Pipeline for Data Ingestion"
   ],
   "metadata": {
    "collapsed": false
   },
   "id": "2867bc893aa4c033"
  },
  {
   "cell_type": "code",
   "outputs": [
    {
     "name": "stdout",
     "output_type": "stream",
     "text": [
      "[2024-02-07 18:00:21,223: INFO: common: yaml file: config\\config.yaml loaded successfully]\n",
      "[2024-02-07 18:00:21,224: INFO: common: yaml file: params.yaml loaded successfully]\n",
      "[2024-02-07 18:00:21,225: INFO: common: yaml file: schema.yaml loaded successfully]\n",
      "[2024-02-07 18:00:21,225: INFO: common: created directory at: artifacts]\n",
      "[2024-02-07 18:00:21,226: INFO: common: created directory at: artifacts/data_ingestion]\n",
      "[2024-02-07 18:00:21,227: INFO: 224548410: File aldready exists of size : ~ 23 KB]\n"
     ]
    }
   ],
   "source": [
    "try:\n",
    "    config = ConfigurationManager()\n",
    "    data_ingestion_config = config.get_data_ingestion_config()\n",
    "    data_ingestion = DataIngestion(config = data_ingestion_config)\n",
    "    data_ingestion.download_file()\n",
    "    data_ingestion.extract_zip_file()\n",
    "except Exception as e:\n",
    "    raise e"
   ],
   "metadata": {
    "collapsed": false,
    "ExecuteTime": {
     "end_time": "2024-02-07T12:30:21.234623Z",
     "start_time": "2024-02-07T12:30:21.221783700Z"
    }
   },
   "id": "dfe12da5ea57986b",
   "execution_count": 23
  },
  {
   "cell_type": "code",
   "outputs": [],
   "source": [],
   "metadata": {
    "collapsed": false
   },
   "id": "c9286450cc7f9b46"
  }
 ],
 "metadata": {
  "kernelspec": {
   "display_name": "Python 3",
   "language": "python",
   "name": "python3"
  },
  "language_info": {
   "codemirror_mode": {
    "name": "ipython",
    "version": 2
   },
   "file_extension": ".py",
   "mimetype": "text/x-python",
   "name": "python",
   "nbconvert_exporter": "python",
   "pygments_lexer": "ipython2",
   "version": "2.7.6"
  }
 },
 "nbformat": 4,
 "nbformat_minor": 5
}
